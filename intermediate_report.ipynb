{
  "nbformat": 4,
  "nbformat_minor": 0,
  "metadata": {
    "colab": {
      "provenance": [],
      "authorship_tag": "ABX9TyNUMh/kdoug4Lmb72jmlgDP",
      "include_colab_link": true
    },
    "kernelspec": {
      "name": "python3",
      "display_name": "Python 3"
    },
    "language_info": {
      "name": "python"
    }
  },
  "cells": [
    {
      "cell_type": "markdown",
      "metadata": {
        "id": "view-in-github",
        "colab_type": "text"
      },
      "source": [
        "<a href=\"https://colab.research.google.com/github/rubyfipps/math-5630-6630.homework.1/blob/main/intermediate_report.ipynb\" target=\"_parent\"><img src=\"https://colab.research.google.com/assets/colab-badge.svg\" alt=\"Open In Colab\"/></a>"
      ]
    },
    {
      "cell_type": "code",
      "execution_count": 1,
      "metadata": {
        "id": "anR-CW6ZTWbz"
      },
      "outputs": [],
      "source": [
        "import numpy as np\n",
        "import pandas as pd"
      ]
    },
    {
      "cell_type": "code",
      "source": [
        "from google.colab import drive\n",
        "drive.mount('/content/drive')"
      ],
      "metadata": {
        "colab": {
          "base_uri": "https://localhost:8080/"
        },
        "id": "F6qmZKRaT44h",
        "outputId": "ea108e49-0338-4487-ea84-06a8780763b3"
      },
      "execution_count": 2,
      "outputs": [
        {
          "output_type": "stream",
          "name": "stdout",
          "text": [
            "Mounted at /content/drive\n"
          ]
        }
      ]
    },
    {
      "cell_type": "code",
      "source": [
        "df= pd.read_csv('/content/sample_data/Galton_Height_Data.csv')"
      ],
      "metadata": {
        "id": "IK6m5_8CUrlU"
      },
      "execution_count": 4,
      "outputs": []
    },
    {
      "cell_type": "code",
      "source": [
        "df.head()"
      ],
      "metadata": {
        "colab": {
          "base_uri": "https://localhost:8080/",
          "height": 206
        },
        "id": "dqMO3aPfU_Qi",
        "outputId": "2a3d11e2-8acb-41e4-9f7d-bd1cac3fcc9e"
      },
      "execution_count": 5,
      "outputs": [
        {
          "output_type": "execute_result",
          "data": {
            "text/plain": [
              "  family  father  mother sex  height  nkids\n",
              "0      1    78.5    67.0   M    73.2      4\n",
              "1      1    78.5    67.0   F    69.2      4\n",
              "2      1    78.5    67.0   F    69.0      4\n",
              "3      1    78.5    67.0   F    69.0      4\n",
              "4      2    75.5    66.5   M    73.5      4"
            ],
            "text/html": [
              "\n",
              "  <div id=\"df-ff6d366d-b766-49f0-8d74-ae3dc10f86e4\" class=\"colab-df-container\">\n",
              "    <div>\n",
              "<style scoped>\n",
              "    .dataframe tbody tr th:only-of-type {\n",
              "        vertical-align: middle;\n",
              "    }\n",
              "\n",
              "    .dataframe tbody tr th {\n",
              "        vertical-align: top;\n",
              "    }\n",
              "\n",
              "    .dataframe thead th {\n",
              "        text-align: right;\n",
              "    }\n",
              "</style>\n",
              "<table border=\"1\" class=\"dataframe\">\n",
              "  <thead>\n",
              "    <tr style=\"text-align: right;\">\n",
              "      <th></th>\n",
              "      <th>family</th>\n",
              "      <th>father</th>\n",
              "      <th>mother</th>\n",
              "      <th>sex</th>\n",
              "      <th>height</th>\n",
              "      <th>nkids</th>\n",
              "    </tr>\n",
              "  </thead>\n",
              "  <tbody>\n",
              "    <tr>\n",
              "      <th>0</th>\n",
              "      <td>1</td>\n",
              "      <td>78.5</td>\n",
              "      <td>67.0</td>\n",
              "      <td>M</td>\n",
              "      <td>73.2</td>\n",
              "      <td>4</td>\n",
              "    </tr>\n",
              "    <tr>\n",
              "      <th>1</th>\n",
              "      <td>1</td>\n",
              "      <td>78.5</td>\n",
              "      <td>67.0</td>\n",
              "      <td>F</td>\n",
              "      <td>69.2</td>\n",
              "      <td>4</td>\n",
              "    </tr>\n",
              "    <tr>\n",
              "      <th>2</th>\n",
              "      <td>1</td>\n",
              "      <td>78.5</td>\n",
              "      <td>67.0</td>\n",
              "      <td>F</td>\n",
              "      <td>69.0</td>\n",
              "      <td>4</td>\n",
              "    </tr>\n",
              "    <tr>\n",
              "      <th>3</th>\n",
              "      <td>1</td>\n",
              "      <td>78.5</td>\n",
              "      <td>67.0</td>\n",
              "      <td>F</td>\n",
              "      <td>69.0</td>\n",
              "      <td>4</td>\n",
              "    </tr>\n",
              "    <tr>\n",
              "      <th>4</th>\n",
              "      <td>2</td>\n",
              "      <td>75.5</td>\n",
              "      <td>66.5</td>\n",
              "      <td>M</td>\n",
              "      <td>73.5</td>\n",
              "      <td>4</td>\n",
              "    </tr>\n",
              "  </tbody>\n",
              "</table>\n",
              "</div>\n",
              "    <div class=\"colab-df-buttons\">\n",
              "\n",
              "  <div class=\"colab-df-container\">\n",
              "    <button class=\"colab-df-convert\" onclick=\"convertToInteractive('df-ff6d366d-b766-49f0-8d74-ae3dc10f86e4')\"\n",
              "            title=\"Convert this dataframe to an interactive table.\"\n",
              "            style=\"display:none;\">\n",
              "\n",
              "  <svg xmlns=\"http://www.w3.org/2000/svg\" height=\"24px\" viewBox=\"0 -960 960 960\">\n",
              "    <path d=\"M120-120v-720h720v720H120Zm60-500h600v-160H180v160Zm220 220h160v-160H400v160Zm0 220h160v-160H400v160ZM180-400h160v-160H180v160Zm440 0h160v-160H620v160ZM180-180h160v-160H180v160Zm440 0h160v-160H620v160Z\"/>\n",
              "  </svg>\n",
              "    </button>\n",
              "\n",
              "  <style>\n",
              "    .colab-df-container {\n",
              "      display:flex;\n",
              "      gap: 12px;\n",
              "    }\n",
              "\n",
              "    .colab-df-convert {\n",
              "      background-color: #E8F0FE;\n",
              "      border: none;\n",
              "      border-radius: 50%;\n",
              "      cursor: pointer;\n",
              "      display: none;\n",
              "      fill: #1967D2;\n",
              "      height: 32px;\n",
              "      padding: 0 0 0 0;\n",
              "      width: 32px;\n",
              "    }\n",
              "\n",
              "    .colab-df-convert:hover {\n",
              "      background-color: #E2EBFA;\n",
              "      box-shadow: 0px 1px 2px rgba(60, 64, 67, 0.3), 0px 1px 3px 1px rgba(60, 64, 67, 0.15);\n",
              "      fill: #174EA6;\n",
              "    }\n",
              "\n",
              "    .colab-df-buttons div {\n",
              "      margin-bottom: 4px;\n",
              "    }\n",
              "\n",
              "    [theme=dark] .colab-df-convert {\n",
              "      background-color: #3B4455;\n",
              "      fill: #D2E3FC;\n",
              "    }\n",
              "\n",
              "    [theme=dark] .colab-df-convert:hover {\n",
              "      background-color: #434B5C;\n",
              "      box-shadow: 0px 1px 3px 1px rgba(0, 0, 0, 0.15);\n",
              "      filter: drop-shadow(0px 1px 2px rgba(0, 0, 0, 0.3));\n",
              "      fill: #FFFFFF;\n",
              "    }\n",
              "  </style>\n",
              "\n",
              "    <script>\n",
              "      const buttonEl =\n",
              "        document.querySelector('#df-ff6d366d-b766-49f0-8d74-ae3dc10f86e4 button.colab-df-convert');\n",
              "      buttonEl.style.display =\n",
              "        google.colab.kernel.accessAllowed ? 'block' : 'none';\n",
              "\n",
              "      async function convertToInteractive(key) {\n",
              "        const element = document.querySelector('#df-ff6d366d-b766-49f0-8d74-ae3dc10f86e4');\n",
              "        const dataTable =\n",
              "          await google.colab.kernel.invokeFunction('convertToInteractive',\n",
              "                                                    [key], {});\n",
              "        if (!dataTable) return;\n",
              "\n",
              "        const docLinkHtml = 'Like what you see? Visit the ' +\n",
              "          '<a target=\"_blank\" href=https://colab.research.google.com/notebooks/data_table.ipynb>data table notebook</a>'\n",
              "          + ' to learn more about interactive tables.';\n",
              "        element.innerHTML = '';\n",
              "        dataTable['output_type'] = 'display_data';\n",
              "        await google.colab.output.renderOutput(dataTable, element);\n",
              "        const docLink = document.createElement('div');\n",
              "        docLink.innerHTML = docLinkHtml;\n",
              "        element.appendChild(docLink);\n",
              "      }\n",
              "    </script>\n",
              "  </div>\n",
              "\n",
              "\n",
              "<div id=\"df-18a41770-3495-4d3d-a39f-45585b1579ff\">\n",
              "  <button class=\"colab-df-quickchart\" onclick=\"quickchart('df-18a41770-3495-4d3d-a39f-45585b1579ff')\"\n",
              "            title=\"Suggest charts\"\n",
              "            style=\"display:none;\">\n",
              "\n",
              "<svg xmlns=\"http://www.w3.org/2000/svg\" height=\"24px\"viewBox=\"0 0 24 24\"\n",
              "     width=\"24px\">\n",
              "    <g>\n",
              "        <path d=\"M19 3H5c-1.1 0-2 .9-2 2v14c0 1.1.9 2 2 2h14c1.1 0 2-.9 2-2V5c0-1.1-.9-2-2-2zM9 17H7v-7h2v7zm4 0h-2V7h2v10zm4 0h-2v-4h2v4z\"/>\n",
              "    </g>\n",
              "</svg>\n",
              "  </button>\n",
              "\n",
              "<style>\n",
              "  .colab-df-quickchart {\n",
              "      --bg-color: #E8F0FE;\n",
              "      --fill-color: #1967D2;\n",
              "      --hover-bg-color: #E2EBFA;\n",
              "      --hover-fill-color: #174EA6;\n",
              "      --disabled-fill-color: #AAA;\n",
              "      --disabled-bg-color: #DDD;\n",
              "  }\n",
              "\n",
              "  [theme=dark] .colab-df-quickchart {\n",
              "      --bg-color: #3B4455;\n",
              "      --fill-color: #D2E3FC;\n",
              "      --hover-bg-color: #434B5C;\n",
              "      --hover-fill-color: #FFFFFF;\n",
              "      --disabled-bg-color: #3B4455;\n",
              "      --disabled-fill-color: #666;\n",
              "  }\n",
              "\n",
              "  .colab-df-quickchart {\n",
              "    background-color: var(--bg-color);\n",
              "    border: none;\n",
              "    border-radius: 50%;\n",
              "    cursor: pointer;\n",
              "    display: none;\n",
              "    fill: var(--fill-color);\n",
              "    height: 32px;\n",
              "    padding: 0;\n",
              "    width: 32px;\n",
              "  }\n",
              "\n",
              "  .colab-df-quickchart:hover {\n",
              "    background-color: var(--hover-bg-color);\n",
              "    box-shadow: 0 1px 2px rgba(60, 64, 67, 0.3), 0 1px 3px 1px rgba(60, 64, 67, 0.15);\n",
              "    fill: var(--button-hover-fill-color);\n",
              "  }\n",
              "\n",
              "  .colab-df-quickchart-complete:disabled,\n",
              "  .colab-df-quickchart-complete:disabled:hover {\n",
              "    background-color: var(--disabled-bg-color);\n",
              "    fill: var(--disabled-fill-color);\n",
              "    box-shadow: none;\n",
              "  }\n",
              "\n",
              "  .colab-df-spinner {\n",
              "    border: 2px solid var(--fill-color);\n",
              "    border-color: transparent;\n",
              "    border-bottom-color: var(--fill-color);\n",
              "    animation:\n",
              "      spin 1s steps(1) infinite;\n",
              "  }\n",
              "\n",
              "  @keyframes spin {\n",
              "    0% {\n",
              "      border-color: transparent;\n",
              "      border-bottom-color: var(--fill-color);\n",
              "      border-left-color: var(--fill-color);\n",
              "    }\n",
              "    20% {\n",
              "      border-color: transparent;\n",
              "      border-left-color: var(--fill-color);\n",
              "      border-top-color: var(--fill-color);\n",
              "    }\n",
              "    30% {\n",
              "      border-color: transparent;\n",
              "      border-left-color: var(--fill-color);\n",
              "      border-top-color: var(--fill-color);\n",
              "      border-right-color: var(--fill-color);\n",
              "    }\n",
              "    40% {\n",
              "      border-color: transparent;\n",
              "      border-right-color: var(--fill-color);\n",
              "      border-top-color: var(--fill-color);\n",
              "    }\n",
              "    60% {\n",
              "      border-color: transparent;\n",
              "      border-right-color: var(--fill-color);\n",
              "    }\n",
              "    80% {\n",
              "      border-color: transparent;\n",
              "      border-right-color: var(--fill-color);\n",
              "      border-bottom-color: var(--fill-color);\n",
              "    }\n",
              "    90% {\n",
              "      border-color: transparent;\n",
              "      border-bottom-color: var(--fill-color);\n",
              "    }\n",
              "  }\n",
              "</style>\n",
              "\n",
              "  <script>\n",
              "    async function quickchart(key) {\n",
              "      const quickchartButtonEl =\n",
              "        document.querySelector('#' + key + ' button');\n",
              "      quickchartButtonEl.disabled = true;  // To prevent multiple clicks.\n",
              "      quickchartButtonEl.classList.add('colab-df-spinner');\n",
              "      try {\n",
              "        const charts = await google.colab.kernel.invokeFunction(\n",
              "            'suggestCharts', [key], {});\n",
              "      } catch (error) {\n",
              "        console.error('Error during call to suggestCharts:', error);\n",
              "      }\n",
              "      quickchartButtonEl.classList.remove('colab-df-spinner');\n",
              "      quickchartButtonEl.classList.add('colab-df-quickchart-complete');\n",
              "    }\n",
              "    (() => {\n",
              "      let quickchartButtonEl =\n",
              "        document.querySelector('#df-18a41770-3495-4d3d-a39f-45585b1579ff button');\n",
              "      quickchartButtonEl.style.display =\n",
              "        google.colab.kernel.accessAllowed ? 'block' : 'none';\n",
              "    })();\n",
              "  </script>\n",
              "</div>\n",
              "\n",
              "    </div>\n",
              "  </div>\n"
            ],
            "application/vnd.google.colaboratory.intrinsic+json": {
              "type": "dataframe",
              "variable_name": "df",
              "summary": "{\n  \"name\": \"df\",\n  \"rows\": 898,\n  \"fields\": [\n    {\n      \"column\": \"family\",\n      \"properties\": {\n        \"dtype\": \"category\",\n        \"num_unique_values\": 197,\n        \"samples\": [\n          \"146\",\n          \"118\",\n          \"18\"\n        ],\n        \"semantic_type\": \"\",\n        \"description\": \"\"\n      }\n    },\n    {\n      \"column\": \"father\",\n      \"properties\": {\n        \"dtype\": \"number\",\n        \"std\": 2.4702558107108206,\n        \"min\": 62.0,\n        \"max\": 78.5,\n        \"num_unique_values\": 34,\n        \"samples\": [\n          70.5,\n          69.2,\n          66.0\n        ],\n        \"semantic_type\": \"\",\n        \"description\": \"\"\n      }\n    },\n    {\n      \"column\": \"mother\",\n      \"properties\": {\n        \"dtype\": \"number\",\n        \"std\": 2.3070252210018625,\n        \"min\": 58.0,\n        \"max\": 70.5,\n        \"num_unique_values\": 29,\n        \"samples\": [\n          66.2,\n          64.7,\n          69.0\n        ],\n        \"semantic_type\": \"\",\n        \"description\": \"\"\n      }\n    },\n    {\n      \"column\": \"sex\",\n      \"properties\": {\n        \"dtype\": \"category\",\n        \"num_unique_values\": 2,\n        \"samples\": [\n          \"F\",\n          \"M\"\n        ],\n        \"semantic_type\": \"\",\n        \"description\": \"\"\n      }\n    },\n    {\n      \"column\": \"height\",\n      \"properties\": {\n        \"dtype\": \"number\",\n        \"std\": 3.58291846997281,\n        \"min\": 56.0,\n        \"max\": 79.0,\n        \"num_unique_values\": 65,\n        \"samples\": [\n          62.2,\n          56.0\n        ],\n        \"semantic_type\": \"\",\n        \"description\": \"\"\n      }\n    },\n    {\n      \"column\": \"nkids\",\n      \"properties\": {\n        \"dtype\": \"number\",\n        \"std\": 2,\n        \"min\": 1,\n        \"max\": 15,\n        \"num_unique_values\": 12,\n        \"samples\": [\n          10,\n          11\n        ],\n        \"semantic_type\": \"\",\n        \"description\": \"\"\n      }\n    }\n  ]\n}"
            }
          },
          "metadata": {},
          "execution_count": 5
        }
      ]
    },
    {
      "cell_type": "markdown",
      "source": [
        "Objective 1: Examine the relationship between parental height and the height of their adult children.\n",
        "- Calculate the father and mothers average height.\n",
        "- Creat scatter plots for sons and daughters."
      ],
      "metadata": {
        "id": "pcfbeqc9GTxY"
      }
    },
    {
      "cell_type": "code",
      "source": [
        "df['MidParent'] = (df['father'] + df['mother']) / 2\n",
        "\n",
        "print(df.head())"
      ],
      "metadata": {
        "colab": {
          "base_uri": "https://localhost:8080/"
        },
        "id": "ffht5obRGaVY",
        "outputId": "40b5cf35-e042-44d2-b4d6-2259e3e12a21"
      },
      "execution_count": 16,
      "outputs": [
        {
          "output_type": "stream",
          "name": "stdout",
          "text": [
            "  family  father  mother sex  height  nkids  outlier  MidParent\n",
            "0      1    78.5    67.0   M    73.2      4    False      72.75\n",
            "1      1    78.5    67.0   F    69.2      4    False      72.75\n",
            "2      1    78.5    67.0   F    69.0      4    False      72.75\n",
            "3      1    78.5    67.0   F    69.0      4    False      72.75\n",
            "4      2    75.5    66.5   M    73.5      4    False      71.00\n"
          ]
        }
      ]
    },
    {
      "cell_type": "code",
      "source": [
        "import matplotlib.pyplot as plt\n",
        "male_df = df[df['sex'] == 'M']\n",
        "female_df = df[df['sex'] == 'F']\n",
        "\n",
        "#Sons:\n",
        "plt.scatter(male_df['MidParent'], male_df['height'], label='Sons', color='blue')\n",
        "plt.xlabel('Average Parents Height')\n",
        "plt.ylabel('Male Child Height')\n",
        "plt.title('Male Child Height vs. MidParent Height')\n",
        "plt.legend()\n",
        "plt.show()\n",
        "\n",
        "#Daughters:\n",
        "plt.scatter(female_df['MidParent'], female_df['height'], label='Daughters', color='red')\n",
        "plt.xlabel('Average Parents Height')\n",
        "plt.ylabel('Female Child Height')\n",
        "plt.title('Female Child Height vs. MidParent Height')\n",
        "plt.legend()\n",
        "plt.show()"
      ],
      "metadata": {
        "colab": {
          "base_uri": "https://localhost:8080/",
          "height": 927
        },
        "id": "A9bK6o53IILR",
        "outputId": "bfd4e13d-32dc-4586-e671-4b2bcbb19453"
      },
      "execution_count": 28,
      "outputs": [
        {
          "output_type": "display_data",
          "data": {
            "text/plain": [
              "<Figure size 640x480 with 1 Axes>"
            ],
            "image/png": "[encoded data removed]"
          },
          "metadata": {}
        },
        {
          "output_type": "display_data",
          "data": {
            "text/plain": [
              "<Figure size 640x480 with 1 Axes>"
            ],
            "image/png": "[encoded data removed]"
          },
          "metadata": {}
        }
      ]
    },
    {
      "cell_type": "markdown",
      "source": [
        "Objective 2: Identify potential differences in height inheritance between adult male and adult female children.\n",
        "- Summary statistics for male and female children.\n",
        "- Linear regression for average parents height and sons and average parents height and daughters.\n"
      ],
      "metadata": {
        "id": "iOFtwdpCKGYX"
      }
    },
    {
      "cell_type": "markdown",
      "source": [
        "Mean, median, mode, and standard deviation for male and female children:\n",
        "\n",
        "\n"
      ],
      "metadata": {
        "id": "64ChJ9hwgMdH"
      }
    },
    {
      "cell_type": "code",
      "source": [
        "male_df = df[df['sex'] == 'M']\n",
        "female_df = df[df['sex'] == 'F']\n",
        "\n",
        "# Male children\n",
        "male_mean = male_df['height'].mean()\n",
        "male_median = male_df['height'].median()\n",
        "male_mode = male_df['height'].mode()[0]\n",
        "male_std_dev = male_df['height'].std()\n",
        "\n",
        "# Female children\n",
        "female_mean = female_df['height'].mean()\n",
        "female_median = female_df['height'].median()\n",
        "female_mode = female_df['height'].mode()[0]\n",
        "female_std_dev = female_df['height'].std()\n",
        "\n",
        "print(\"Male Children:\")\n",
        "print(\"Mean:\", male_mean)\n",
        "print(\"Median:\", male_median)\n",
        "print(\"Mode:\", male_mode)\n",
        "print(\"Standard Deviation:\", male_std_dev)\n",
        "\n",
        "print(\"\\nFemale Children:\")\n",
        "print(\"Mean:\", female_mean)\n",
        "print(\"Median:\", female_median)\n",
        "print(\"Mode:\", female_mode)\n",
        "print(\"Standard Deviation:\", female_std_dev)"
      ],
      "metadata": {
        "colab": {
          "base_uri": "https://localhost:8080/"
        },
        "id": "tbXG9tEpLT6L",
        "outputId": "922e96af-d28b-435e-ef02-555713544bd8"
      },
      "execution_count": 24,
      "outputs": [
        {
          "output_type": "stream",
          "name": "stdout",
          "text": [
            "Male Children:\n",
            "Mean: 69.22881720430108\n",
            "Median: 69.2\n",
            "Mode: 70.0\n",
            "Standard Deviation: 2.6315942826866188\n",
            "\n",
            "Female Children:\n",
            "Mean: 64.11016166281756\n",
            "Median: 64.0\n",
            "Mode: 65.0\n",
            "Standard Deviation: 2.370319602944069\n"
          ]
        }
      ]
    },
    {
      "cell_type": "markdown",
      "source": [
        "Finding any outliers within the data:"
      ],
      "metadata": {
        "id": "KG1_Qosvg100"
      }
    },
    {
      "cell_type": "code",
      "source": [
        "male_df = df[df['sex'] == 'M']\n",
        "female_df = df[df['sex'] == 'F']\n",
        "\n",
        "def find_outliers_iqr(data):\n",
        "    Q1 = data.quantile(0.25)\n",
        "    Q3 = data.quantile(0.75)\n",
        "    IQR = Q3 - Q1\n",
        "    lower_bound = Q1 - 1.5 * IQR\n",
        "    upper_bound = Q3 + 1.5 * IQR\n",
        "    outliers = data[(data < lower_bound) | (data > upper_bound)]\n",
        "    return outliers\n",
        "\n",
        "male_outliers = find_outliers_iqr(male_df['height'])\n",
        "\n",
        "female_outliers = find_outliers_iqr(female_df['height'])\n",
        "\n",
        "print(\"Outliers for Male Children's Heights:\", male_outliers)\n",
        "print(\"\\nOutliers for Female Children's Heights:\", female_outliers)"
      ],
      "metadata": {
        "colab": {
          "base_uri": "https://localhost:8080/"
        },
        "id": "dl-IsMQIgk3k",
        "outputId": "f372f952-27cb-4f24-ba91-5719f2fee434"
      },
      "execution_count": 25,
      "outputs": [
        {
          "output_type": "stream",
          "name": "stdout",
          "text": [
            "Outliers for Male Children's Heights: 22     76.5\n",
            "125    78.0\n",
            "288    79.0\n",
            "478    60.0\n",
            "Name: height, dtype: float64\n",
            "\n",
            "Outliers for Female Children's Heights: 26     70.5\n",
            "28     70.5\n",
            "100    70.5\n",
            "672    56.0\n",
            "779    57.5\n",
            "821    57.0\n",
            "889    57.0\n",
            "Name: height, dtype: float64\n"
          ]
        }
      ]
    },
    {
      "cell_type": "markdown",
      "source": [
        "Mean, median, mode, and standard deviation with the outliers removed:"
      ],
      "metadata": {
        "id": "CLKG7JMehppu"
      }
    },
    {
      "cell_type": "code",
      "source": [
        "male_df = df[df['sex'] == 'M']\n",
        "female_df = df[df['sex'] == 'F']\n",
        "\n",
        "def find_outliers_iqr(data):\n",
        "    Q1 = data.quantile(0.25)\n",
        "    Q3 = data.quantile(0.75)\n",
        "    IQR = Q3 - Q1\n",
        "    lower_bound = Q1 - 1.5 * IQR\n",
        "    upper_bound = Q3 + 1.5 * IQR\n",
        "    outliers = data[(data < lower_bound) | (data > upper_bound)]\n",
        "    return outliers\n",
        "\n",
        "male_outliers = find_outliers_iqr(male_df['height'])\n",
        "female_outliers = find_outliers_iqr(female_df['height'])\n",
        "\n",
        "male_df_filtered = male_df[~male_df['height'].isin(male_outliers)]\n",
        "female_df_filtered = female_df[~female_df['height'].isin(female_outliers)]\n",
        "\n",
        "male_mean = male_df_filtered['height'].mean()\n",
        "male_median = male_df_filtered['height'].median()\n",
        "male_mode = male_df_filtered['height'].mode()[0]\n",
        "male_std_dev = male_df_filtered['height'].std()\n",
        "\n",
        "female_mean = female_df_filtered['height'].mean()\n",
        "female_median = female_df_filtered['height'].median()\n",
        "female_mode = female_df_filtered['height'].mode()[0]\n",
        "female_std_dev = female_df_filtered['height'].std()\n",
        "\n",
        "print(\"Male Children (without outliers):\")\n",
        "print(\"Mean:\", male_mean)\n",
        "print(\"Median:\", male_median)\n",
        "print(\"Mode:\", male_mode)\n",
        "print(\"Standard Deviation:\", male_std_dev)\n",
        "\n",
        "print(\"\\nFemale Children (without outliers):\")\n",
        "print(\"Mean:\", female_mean)\n",
        "print(\"Median:\", female_median)\n",
        "print(\"Mode:\", female_mode)\n",
        "print(\"Standard Deviation:\", female_std_dev)"
      ],
      "metadata": {
        "colab": {
          "base_uri": "https://localhost:8080/"
        },
        "id": "N2tCmzcghhzj",
        "outputId": "f51a9f7f-9328-4b00-92df-5be3ab82eb63"
      },
      "execution_count": 27,
      "outputs": [
        {
          "output_type": "stream",
          "name": "stdout",
          "text": [
            "Male Children (without outliers):\n",
            "Mean: 69.19284164859002\n",
            "Median: 69.2\n",
            "Mode: 70.0\n",
            "Standard Deviation: 2.511835625957008\n",
            "\n",
            "Female Children (without outliers):\n",
            "Mean: 64.1330985915493\n",
            "Median: 64.0\n",
            "Mode: 65.0\n",
            "Standard Deviation: 2.2196254638268575\n"
          ]
        }
      ]
    },
    {
      "cell_type": "markdown",
      "source": [
        "Simple Linear Regression:"
      ],
      "metadata": {
        "id": "nOEE0gYRnY0E"
      }
    },
    {
      "cell_type": "code",
      "source": [
        "import statsmodels.api as sm\n",
        "\n",
        "df['MidParent'] = (df['father'] + df['mother']) / 2\n",
        "\n",
        "X = sm.add_constant(df['MidParent'])\n",
        "y = df['height']\n",
        "\n",
        "model = sm.OLS(y, X).fit()\n",
        "print(model.summary())"
      ],
      "metadata": {
        "colab": {
          "base_uri": "https://localhost:8080/"
        },
        "id": "dGQUl8_7nSWS",
        "outputId": "37eabf6b-1d87-481f-852c-e67a2ea724b0"
      },
      "execution_count": 31,
      "outputs": [
        {
          "output_type": "stream",
          "name": "stdout",
          "text": [
            "                            OLS Regression Results                            \n",
            "==============================================================================\n",
            "Dep. Variable:                 height   R-squared:                       0.107\n",
            "Model:                            OLS   Adj. R-squared:                  0.106\n",
            "Method:                 Least Squares   F-statistic:                     107.3\n",
            "Date:                Fri, 21 Mar 2025   Prob (F-statistic):           7.82e-24\n",
            "Time:                        16:51:41   Log-Likelihood:                -2368.9\n",
            "No. Observations:                 898   AIC:                             4742.\n",
            "Df Residuals:                     896   BIC:                             4751.\n",
            "Df Model:                           1                                         \n",
            "Covariance Type:            nonrobust                                         \n",
            "==============================================================================\n",
            "                 coef    std err          t      P>|t|      [0.025      0.975]\n",
            "------------------------------------------------------------------------------\n",
            "const         22.1488      4.308      5.142      0.000      13.695      30.603\n",
            "MidParent      0.6693      0.065     10.360      0.000       0.542       0.796\n",
            "==============================================================================\n",
            "Omnibus:                       45.485   Durbin-Watson:                   1.386\n",
            "Prob(Omnibus):                  0.000   Jarque-Bera (JB):               18.823\n",
            "Skew:                           0.062   Prob(JB):                     8.18e-05\n",
            "Kurtosis:                       2.302   Cond. No.                     2.54e+03\n",
            "==============================================================================\n",
            "\n",
            "Notes:\n",
            "[1] Standard Errors assume that the covariance matrix of the errors is correctly specified.\n",
            "[2] The condition number is large, 2.54e+03. This might indicate that there are\n",
            "strong multicollinearity or other numerical problems.\n"
          ]
        }
      ]
    },
    {
      "cell_type": "markdown",
      "source": [
        "Multiple Regression with Gender Interaction:"
      ],
      "metadata": {
        "id": "Wqniny8kqRR3"
      }
    },
    {
      "cell_type": "code",
      "source": [
        "df['GenderCode'] = df['sex'].map({'M': 1, 'F': 0})  # Encode gender\n",
        "\n",
        "df['MidParent_Gender'] = df['MidParent'] * df['GenderCode']  # Interaction term\n",
        "\n",
        "X_interact = df[['MidParent', 'GenderCode', 'MidParent_Gender']]\n",
        "X_interact = sm.add_constant(X_interact)\n",
        "\n",
        "model_interact = sm.OLS(df['height'], X_interact).fit()\n",
        "print(model_interact.summary())"
      ],
      "metadata": {
        "colab": {
          "base_uri": "https://localhost:8080/"
        },
        "id": "zvWOZgYLqC5U",
        "outputId": "ba772ed6-ae58-4dfe-e4dd-e40298290c43"
      },
      "execution_count": 34,
      "outputs": [
        {
          "output_type": "stream",
          "name": "stdout",
          "text": [
            "                            OLS Regression Results                            \n",
            "==============================================================================\n",
            "Dep. Variable:                 height   R-squared:                       0.638\n",
            "Model:                            OLS   Adj. R-squared:                  0.637\n",
            "Method:                 Least Squares   F-statistic:                     525.8\n",
            "Date:                Fri, 21 Mar 2025   Prob (F-statistic):          7.83e-197\n",
            "Time:                        17:03:07   Log-Likelihood:                -1963.2\n",
            "No. Observations:                 898   AIC:                             3934.\n",
            "Df Residuals:                     894   BIC:                             3954.\n",
            "Df Model:                           3                                         \n",
            "Covariance Type:            nonrobust                                         \n",
            "====================================================================================\n",
            "                       coef    std err          t      P>|t|      [0.025      0.975]\n",
            "------------------------------------------------------------------------------------\n",
            "const               15.9671      3.897      4.097      0.000       8.318      23.616\n",
            "MidParent            0.7214      0.058     12.357      0.000       0.607       0.836\n",
            "GenderCode           3.7044      5.495      0.674      0.500      -7.080      14.488\n",
            "MidParent_Gender     0.0229      0.082      0.277      0.782      -0.139       0.185\n",
            "==============================================================================\n",
            "Omnibus:                       11.949   Durbin-Watson:                   1.557\n",
            "Prob(Omnibus):                  0.003   Jarque-Bera (JB):               15.679\n",
            "Skew:                          -0.152   Prob(JB):                     0.000394\n",
            "Kurtosis:                       3.571   Cond. No.                     6.72e+03\n",
            "==============================================================================\n",
            "\n",
            "Notes:\n",
            "[1] Standard Errors assume that the covariance matrix of the errors is correctly specified.\n",
            "[2] The condition number is large, 6.72e+03. This might indicate that there are\n",
            "strong multicollinearity or other numerical problems.\n"
          ]
        }
      ]
    },
    {
      "cell_type": "markdown",
      "source": [
        "ANOVA table:"
      ],
      "metadata": {
        "id": "b25D5KZDshJs"
      }
    },
    {
      "cell_type": "code",
      "source": [
        "import statsmodels.formula.api as smf\n",
        "\n",
        "model = smf.ols('height ~ C(sex)', data=df).fit()\n",
        "anova_table = sm.stats.anova_lm(model, typ=2)\n",
        "print(anova_table)"
      ],
      "metadata": {
        "colab": {
          "base_uri": "https://localhost:8080/"
        },
        "id": "HxLlRJ5jsjJi",
        "outputId": "52634324-587b-4559-c0d8-0c0c4c492560"
      },
      "execution_count": 36,
      "outputs": [
        {
          "output_type": "stream",
          "name": "stdout",
          "text": [
            "               sum_sq     df           F         PR(>F)\n",
            "C(sex)    5874.573234    1.0  933.184603  5.175573e-141\n",
            "Residual  5640.489138  896.0         NaN            NaN\n"
          ]
        }
      ]
    }
  ]
}